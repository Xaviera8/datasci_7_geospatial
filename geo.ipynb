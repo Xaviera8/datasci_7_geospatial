{
 "cells": [
  {
   "cell_type": "code",
   "execution_count": 7,
   "metadata": {},
   "outputs": [],
   "source": [
    "import pandas as pd \n",
    "import geopandas as gpd\n"
   ]
  },
  {
   "cell_type": "code",
   "execution_count": 12,
   "metadata": {},
   "outputs": [
    {
     "output_type": "execute_result",
     "data": {
      "text/plain": [
       "   FID        NAME  Obesity  SHAPE_Length  SHAPE_Area  \\\n",
       "0    1       Texas     32.4     45.047446   65.778624   \n",
       "1    2  California     24.2     40.755927   41.730164   \n",
       "2    3    Kentucky     34.6     20.348345   10.665636   \n",
       "3    4     Georgia     30.7     17.288448   14.682554   \n",
       "4    5   Wisconsin     30.7     22.428845   16.512937   \n",
       "\n",
       "                                            geometry  \n",
       "0  MULTIPOLYGON (((-106.62345 31.91404, -106.6301...  \n",
       "1  MULTIPOLYGON (((-118.59398 33.46720, -118.4848...  \n",
       "2  MULTIPOLYGON (((-89.54444 36.57452, -89.47935 ...  \n",
       "3  MULTIPOLYGON (((-85.60517 34.98468, -85.47434 ...  \n",
       "4  MULTIPOLYGON (((-86.93428 45.42116, -86.83575 ...  "
      ],
      "text/html": "<div>\n<style scoped>\n    .dataframe tbody tr th:only-of-type {\n        vertical-align: middle;\n    }\n\n    .dataframe tbody tr th {\n        vertical-align: top;\n    }\n\n    .dataframe thead th {\n        text-align: right;\n    }\n</style>\n<table border=\"1\" class=\"dataframe\">\n  <thead>\n    <tr style=\"text-align: right;\">\n      <th></th>\n      <th>FID</th>\n      <th>NAME</th>\n      <th>Obesity</th>\n      <th>SHAPE_Length</th>\n      <th>SHAPE_Area</th>\n      <th>geometry</th>\n    </tr>\n  </thead>\n  <tbody>\n    <tr>\n      <th>0</th>\n      <td>1</td>\n      <td>Texas</td>\n      <td>32.4</td>\n      <td>45.047446</td>\n      <td>65.778624</td>\n      <td>MULTIPOLYGON (((-106.62345 31.91404, -106.6301...</td>\n    </tr>\n    <tr>\n      <th>1</th>\n      <td>2</td>\n      <td>California</td>\n      <td>24.2</td>\n      <td>40.755927</td>\n      <td>41.730164</td>\n      <td>MULTIPOLYGON (((-118.59398 33.46720, -118.4848...</td>\n    </tr>\n    <tr>\n      <th>2</th>\n      <td>3</td>\n      <td>Kentucky</td>\n      <td>34.6</td>\n      <td>20.348345</td>\n      <td>10.665636</td>\n      <td>MULTIPOLYGON (((-89.54444 36.57452, -89.47935 ...</td>\n    </tr>\n    <tr>\n      <th>3</th>\n      <td>4</td>\n      <td>Georgia</td>\n      <td>30.7</td>\n      <td>17.288448</td>\n      <td>14.682554</td>\n      <td>MULTIPOLYGON (((-85.60517 34.98468, -85.47434 ...</td>\n    </tr>\n    <tr>\n      <th>4</th>\n      <td>5</td>\n      <td>Wisconsin</td>\n      <td>30.7</td>\n      <td>22.428845</td>\n      <td>16.512937</td>\n      <td>MULTIPOLYGON (((-86.93428 45.42116, -86.83575 ...</td>\n    </tr>\n  </tbody>\n</table>\n</div>"
     },
     "metadata": {},
     "execution_count": 12
    }
   ],
   "source": [
    "df = gpd.read_file('/home/cybermadness99/datasci_7_geospatial/Datasets/National_Obesity_By_State.geojson')\n",
    "df.head(5)"
   ]
  },
  {
   "cell_type": "code",
   "execution_count": null,
   "metadata": {},
   "outputs": [],
   "source": []
  }
 ],
 "metadata": {
  "language_info": {
   "name": "python",
   "version": "3.9.2-final"
  },
  "kernelspec": {
   "name": "python3",
   "display_name": "Python 3 (ipykernel)"
  }
 },
 "nbformat": 4,
 "nbformat_minor": 2
}